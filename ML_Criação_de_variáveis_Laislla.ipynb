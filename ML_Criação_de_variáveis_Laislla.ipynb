{
  "nbformat": 4,
  "nbformat_minor": 0,
  "metadata": {
    "kernelspec": {
      "display_name": "Python 3",
      "language": "python",
      "name": "python3"
    },
    "language_info": {
      "codemirror_mode": {
        "name": "ipython",
        "version": 3
      },
      "file_extension": ".py",
      "mimetype": "text/x-python",
      "name": "python",
      "nbconvert_exporter": "python",
      "pygments_lexer": "ipython3",
      "version": "3.7.3"
    },
    "colab": {
      "name": "ML_Criação de variáveis_Laislla.ipynb",
      "provenance": [],
      "include_colab_link": true
    }
  },
  "cells": [
    {
      "cell_type": "markdown",
      "metadata": {
        "id": "view-in-github",
        "colab_type": "text"
      },
      "source": [
        "<a href=\"https://colab.research.google.com/github/lcpbrandao/Basic_ML_training/blob/master/ML_Cria%C3%A7%C3%A3o_de_vari%C3%A1veis_Laislla.ipynb\" target=\"_parent\"><img src=\"https://colab.research.google.com/assets/colab-badge.svg\" alt=\"Open In Colab\"/></a>"
      ]
    },
    {
      "cell_type": "code",
      "metadata": {
        "id": "i4y6jmoiJAOr",
        "colab_type": "code",
        "colab": {}
      },
      "source": [
        "df = spark.read.csv('BASE_JUR001.csv',\n",
        "                    sep='\\t',\n",
        "                    encoding='utf-8',\n",
        "                    header=True,\n",
        "                    inferSchema=False)"
      ],
      "execution_count": null,
      "outputs": []
    },
    {
      "cell_type": "code",
      "metadata": {
        "id": "HwtD95xPJAOy",
        "colab_type": "code",
        "colab": {},
        "outputId": "062a3044-2a28-42eb-a55f-ff5b956dc2eb"
      },
      "source": [
        "df.printSchema()"
      ],
      "execution_count": null,
      "outputs": [
        {
          "output_type": "stream",
          "text": [
            "root\n",
            " |-- CNPJ: string (nullable = true)\n",
            " |-- NOME_EMPRESA: string (nullable = true)\n",
            " |-- FANTASIA: string (nullable = true)\n",
            " |-- NATUREZA_JURIDICA: string (nullable = true)\n",
            " |-- ATIVIDADE_PRINCIPAL: string (nullable = true)\n",
            " |-- ATIVIDADES_SECUNDARIAS: string (nullable = true)\n",
            " |-- CNPJ_FORMATADO: string (nullable = true)\n",
            " |-- TIPO: string (nullable = true)\n",
            " |-- LOGRADOURO: string (nullable = true)\n",
            " |-- NUMERO: string (nullable = true)\n",
            " |-- COMPLEMENTO: string (nullable = true)\n",
            " |-- BAIRRO: string (nullable = true)\n",
            " |-- CEP: string (nullable = true)\n",
            " |-- MUNICIPIO: string (nullable = true)\n",
            " |-- UF: string (nullable = true)\n",
            " |-- TELEFONE_1: string (nullable = true)\n",
            " |-- TELEFONE_2: string (nullable = true)\n",
            " |-- EMAIL: string (nullable = true)\n",
            " |-- ABERTURA: string (nullable = true)\n",
            " |-- CAPITAL_SOCIAL: string (nullable = true)\n",
            " |-- MOTIVO_SITUACAO: string (nullable = true)\n",
            " |-- SITUACAO: string (nullable = true)\n",
            " |-- DATA_SITUACAO: string (nullable = true)\n",
            " |-- SITUACAO_ESPECIAL: string (nullable = true)\n",
            " |-- DATA_SITUACAO_ESPECIAL: string (nullable = true)\n",
            " |-- EFR: string (nullable = true)\n",
            " |-- NOME_SOCIO: string (nullable = true)\n",
            " |-- CARGO: string (nullable = true)\n",
            " |-- NOME_REP_LEGAL: string (nullable = true)\n",
            " |-- CARGO_REP_LEGAL: string (nullable = true)\n",
            " |-- REF_DATE: string (nullable = true)\n",
            " |-- LOAD_DATE: string (nullable = true)\n",
            " |-- STATUS: string (nullable = true)\n",
            " |-- QUERY_NAME: string (nullable = true)\n",
            " |-- QUERY_VERSION: string (nullable = true)\n",
            " |-- QUERY_STATUS: string (nullable = true)\n",
            " |-- QUERY_DATE: string (nullable = true)\n",
            " |-- YEAR: string (nullable = true)\n",
            " |-- MONTH: string (nullable = true)\n",
            "\n"
          ],
          "name": "stdout"
        }
      ]
    },
    {
      "cell_type": "code",
      "metadata": {
        "id": "hP_-xJlMJAO5",
        "colab_type": "code",
        "colab": {}
      },
      "source": [
        "from pyspark.sql.functions import udf\n",
        "import pyspark.sql.types as ST\n",
        "import pyspark.sql.functions as SF\n",
        "from datetime import datetime"
      ],
      "execution_count": null,
      "outputs": []
    },
    {
      "cell_type": "markdown",
      "metadata": {
        "id": "cwgNCsZfJAO9",
        "colab_type": "text"
      },
      "source": [
        "1) Número de e-mais"
      ]
    },
    {
      "cell_type": "code",
      "metadata": {
        "id": "GWYXu8NGJAO-",
        "colab_type": "code",
        "colab": {},
        "outputId": "ddff5948-68ce-4318-8719-808128c8d608"
      },
      "source": [
        "df.select(['CNPJ','EMAIL']).show()"
      ],
      "execution_count": null,
      "outputs": [
        {
          "output_type": "stream",
          "text": [
            "+--------------+--------------------+\n",
            "|          CNPJ|               EMAIL|\n",
            "+--------------+--------------------+\n",
            "|36487312000119|                null|\n",
            "|20096015000102|uberlan@fricks.ad...|\n",
            "|01953169000129|okaybrazil@outloo...|\n",
            "|28860602000138|luciana.rocha7@ou...|\n",
            "|01589195000110|fiscal@gckconsult...|\n",
            "|87951000000155|                null|\n",
            "|01061088000114|                null|\n",
            "|23860083000194|    gaminf@ig.com.br|\n",
            "|16908760000131|fiscal@casadacont...|\n",
            "|24491353000108|paulolimabastos@h...|\n",
            "|11005928000185|                null|\n",
            "|11299837000108|acontabilissima@g...|\n",
            "|14102303000120|                null|\n",
            "|22108490000187|ideia.acontabil@h...|\n",
            "|22445736000106|contabilidadeamor...|\n",
            "|27889029000122|   ltpcruz@gmail.com|\n",
            "|11320545000100|registro@cmmconta...|\n",
            "|11058064000160|                null|\n",
            "|52490398000195|                null|\n",
            "|05308989000119|                null|\n",
            "+--------------+--------------------+\n",
            "only showing top 20 rows\n",
            "\n"
          ],
          "name": "stdout"
        }
      ]
    },
    {
      "cell_type": "code",
      "metadata": {
        "id": "5T_fVBE8JAPD",
        "colab_type": "code",
        "colab": {},
        "outputId": "5acd4dca-9264-4728-9cde-09d3999e8746"
      },
      "source": [
        "df_1 = df.groupBy('CNPJ').agg(SF.count('EMAIL').alias('QTDE_EMAILS'))\n",
        "df_1.show()"
      ],
      "execution_count": null,
      "outputs": [
        {
          "output_type": "stream",
          "text": [
            "+--------------+-----------+\n",
            "|          CNPJ|QTDE_EMAILS|\n",
            "+--------------+-----------+\n",
            "|09093187000190|          0|\n",
            "|09355087000194|          3|\n",
            "|08948840000192|          0|\n",
            "|09292585000135|          4|\n",
            "|02859515000177|          2|\n",
            "|08872769000101|          4|\n",
            "|26101680000123|          6|\n",
            "|24873058000108|          2|\n",
            "|22409723000181|          3|\n",
            "|07326479000108|          2|\n",
            "|17523148000103|          2|\n",
            "|04708618000161|          0|\n",
            "|15641176000108|          2|\n",
            "|08346961000164|          2|\n",
            "|13065432000122|          1|\n",
            "|44972370000166|          0|\n",
            "|04895056000102|          0|\n",
            "|66225129000106|          0|\n",
            "|03938997000113|          1|\n",
            "|26750380000175|          0|\n",
            "+--------------+-----------+\n",
            "only showing top 20 rows\n",
            "\n"
          ],
          "name": "stdout"
        }
      ]
    },
    {
      "cell_type": "markdown",
      "metadata": {
        "id": "caRu972AJAPN",
        "colab_type": "text"
      },
      "source": [
        "2) Número de telefones"
      ]
    },
    {
      "cell_type": "code",
      "metadata": {
        "id": "e4VS_5jMJAPN",
        "colab_type": "code",
        "colab": {},
        "outputId": "7103fefb-6c31-40a5-9b2d-74f2ac254748"
      },
      "source": [
        "df.select(['CNPJ','TELEFONE_1','TELEFONE_2']).show()"
      ],
      "execution_count": null,
      "outputs": [
        {
          "output_type": "stream",
          "text": [
            "+--------------+--------------+--------------+\n",
            "|          CNPJ|    TELEFONE_1|    TELEFONE_2|\n",
            "+--------------+--------------+--------------+\n",
            "|36487312000119|          null|          null|\n",
            "|20096015000102|(21) 2671-4350|(21) 2671-4350|\n",
            "|01953169000129|(11) 3259-1133|          null|\n",
            "|28860602000138|(31) 9535-7611|          null|\n",
            "|01589195000110|(11) 3926-5483|          null|\n",
            "|87951000000155|          null|          null|\n",
            "|01061088000114|          null|          null|\n",
            "|23860083000194|(31) 3384-8212|(31) 3384-8212|\n",
            "|16908760000131|(85) 3275-8401|          null|\n",
            "|24491353000108|(71) 9957-1925|(71) 3322-7149|\n",
            "|11005928000185|(81) 8886-6698|          null|\n",
            "|11299837000108|(41) 3642-2006|          null|\n",
            "|14102303000120|(94) 3358-1226|          null|\n",
            "|22108490000187|(11) 3796-4994|          null|\n",
            "|22445736000106|(31) 3471-2000|          null|\n",
            "|27889029000122|(14) 3202-9935|          null|\n",
            "|11320545000100|(27) 3421-6190|          null|\n",
            "|11058064000160|(62) 3093-7484|          null|\n",
            "|52490398000195|(11) 2965-0523|          null|\n",
            "|05308989000119|          null|          null|\n",
            "+--------------+--------------+--------------+\n",
            "only showing top 20 rows\n",
            "\n"
          ],
          "name": "stdout"
        }
      ]
    },
    {
      "cell_type": "code",
      "metadata": {
        "id": "eJKT40j1JAPR",
        "colab_type": "code",
        "colab": {},
        "outputId": "9afecc7c-fe9e-4182-fb73-b1a5b2ca431d"
      },
      "source": [
        "df_2 = df.groupBy('CNPJ').agg((SF.count('TELEFONE_1') + SF.count('TELEFONE_2')).alias('QTE_TELEFONES'))\n",
        "df_2.show()"
      ],
      "execution_count": null,
      "outputs": [
        {
          "output_type": "stream",
          "text": [
            "+--------------+-------------+\n",
            "|          CNPJ|QTE_TELEFONES|\n",
            "+--------------+-------------+\n",
            "|09093187000190|            2|\n",
            "|09355087000194|            6|\n",
            "|08948840000192|            3|\n",
            "|09292585000135|            8|\n",
            "|02859515000177|            2|\n",
            "|08872769000101|            4|\n",
            "|26101680000123|            6|\n",
            "|24873058000108|            2|\n",
            "|22409723000181|            3|\n",
            "|07326479000108|            2|\n",
            "|17523148000103|            4|\n",
            "|04708618000161|            6|\n",
            "|15641176000108|            2|\n",
            "|08346961000164|            2|\n",
            "|13065432000122|            1|\n",
            "|44972370000166|            0|\n",
            "|04895056000102|            0|\n",
            "|66225129000106|            0|\n",
            "|03938997000113|            1|\n",
            "|26750380000175|            2|\n",
            "+--------------+-------------+\n",
            "only showing top 20 rows\n",
            "\n"
          ],
          "name": "stdout"
        }
      ]
    },
    {
      "cell_type": "markdown",
      "metadata": {
        "id": "8wCSulRpJAPj",
        "colab_type": "text"
      },
      "source": [
        "3) Número de filiais"
      ]
    },
    {
      "cell_type": "code",
      "metadata": {
        "id": "_xgPyrW9JAPk",
        "colab_type": "code",
        "colab": {},
        "outputId": "25bcf1ec-745f-4fc7-d004-742690e7f0b8"
      },
      "source": [
        "#@SF.udf transforma uma função Python em função Spark para poder trabalhar com uma coluna inteira\n",
        "@SF.udf(ST.StringType())\n",
        "def raiz(cnpj):\n",
        "    if cnpj is not None:\n",
        "        return cnpj[:7]\n",
        "    else:\n",
        "        return None\n",
        "\n",
        "df = df.withColumn('RAIZ_CNPJ', raiz(df['CNPJ']))\n",
        "df.select(['CNPJ','RAIZ_CNPJ']).show()"
      ],
      "execution_count": null,
      "outputs": [
        {
          "output_type": "stream",
          "text": [
            "+--------------+---------+\n",
            "|          CNPJ|RAIZ_CNPJ|\n",
            "+--------------+---------+\n",
            "|36487312000119|  3648731|\n",
            "|20096015000102|  2009601|\n",
            "|01953169000129|  0195316|\n",
            "|28860602000138|  2886060|\n",
            "|01589195000110|  0158919|\n",
            "|87951000000155|  8795100|\n",
            "|01061088000114|  0106108|\n",
            "|23860083000194|  2386008|\n",
            "|16908760000131|  1690876|\n",
            "|24491353000108|  2449135|\n",
            "|11005928000185|  1100592|\n",
            "|11299837000108|  1129983|\n",
            "|14102303000120|  1410230|\n",
            "|22108490000187|  2210849|\n",
            "|22445736000106|  2244573|\n",
            "|27889029000122|  2788902|\n",
            "|11320545000100|  1132054|\n",
            "|11058064000160|  1105806|\n",
            "|52490398000195|  5249039|\n",
            "|05308989000119|  0530898|\n",
            "+--------------+---------+\n",
            "only showing top 20 rows\n",
            "\n"
          ],
          "name": "stdout"
        }
      ]
    },
    {
      "cell_type": "code",
      "metadata": {
        "id": "nP32N0CpJAPr",
        "colab_type": "code",
        "colab": {},
        "outputId": "eeab65d4-ed76-45e4-c176-794eab82850a"
      },
      "source": [
        "df_3 = df.groupBy('CNPJ').agg(SF.count('RAIZ_CNPJ').alias('QTE_Filiais'))\n",
        "df_3.show()"
      ],
      "execution_count": null,
      "outputs": [
        {
          "output_type": "stream",
          "text": [
            "+--------------+-----------+\n",
            "|          CNPJ|QTE_Filiais|\n",
            "+--------------+-----------+\n",
            "|09093187000190|          2|\n",
            "|09355087000194|          3|\n",
            "|08948840000192|          3|\n",
            "|09292585000135|          4|\n",
            "|02859515000177|          2|\n",
            "|08872769000101|          4|\n",
            "|26101680000123|          6|\n",
            "|24873058000108|          2|\n",
            "|22409723000181|          3|\n",
            "|07326479000108|          2|\n",
            "|17523148000103|          2|\n",
            "|04708618000161|          6|\n",
            "|15641176000108|          2|\n",
            "|08346961000164|          2|\n",
            "|13065432000122|          1|\n",
            "|44972370000166|         10|\n",
            "|04895056000102|          2|\n",
            "|66225129000106|          1|\n",
            "|03938997000113|          1|\n",
            "|26750380000175|          1|\n",
            "+--------------+-----------+\n",
            "only showing top 20 rows\n",
            "\n"
          ],
          "name": "stdout"
        }
      ]
    },
    {
      "cell_type": "markdown",
      "metadata": {
        "id": "4y2wxq4qJAPu",
        "colab_type": "text"
      },
      "source": [
        "4) Concentração de empresas"
      ]
    },
    {
      "cell_type": "code",
      "metadata": {
        "id": "9iXeH0iYJAPv",
        "colab_type": "code",
        "colab": {}
      },
      "source": [
        "#Concentração pelo CEP da empresa"
      ],
      "execution_count": null,
      "outputs": []
    },
    {
      "cell_type": "code",
      "metadata": {
        "id": "fsPPhRsEJAQA",
        "colab_type": "code",
        "colab": {},
        "outputId": "bd19de28-d54e-42d1-9543-ae55a1411423"
      },
      "source": [
        "df.select(['CNPJ','CEP']).show()"
      ],
      "execution_count": null,
      "outputs": [
        {
          "output_type": "stream",
          "text": [
            "+--------------+--------+\n",
            "|          CNPJ|     CEP|\n",
            "+--------------+--------+\n",
            "|36487312000119|24230101|\n",
            "|20096015000102|21770000|\n",
            "|01953169000129|01045001|\n",
            "|28860602000138|30810130|\n",
            "|01589195000110|08633210|\n",
            "|87951000000155|90870070|\n",
            "|01061088000114|33120060|\n",
            "|23860083000194|30530110|\n",
            "|16908760000131|60840280|\n",
            "|24491353000108|49035500|\n",
            "|11005928000185|54520600|\n",
            "|11299837000108|83708100|\n",
            "|14102303000120|68537000|\n",
            "|22108490000187|02047020|\n",
            "|22445736000106|30130001|\n",
            "|27889029000122|17033370|\n",
            "|11320545000100|29050911|\n",
            "|11058064000160|74493750|\n",
            "|52490398000195|04514103|\n",
            "|05308989000119|23050340|\n",
            "+--------------+--------+\n",
            "only showing top 20 rows\n",
            "\n"
          ],
          "name": "stdout"
        }
      ]
    },
    {
      "cell_type": "code",
      "metadata": {
        "id": "wPVviQnUJAQI",
        "colab_type": "code",
        "colab": {},
        "outputId": "9edd3b3b-aef8-4102-8e9d-80e8f87f2486"
      },
      "source": [
        "df_4 = df.groupBy('CEP').agg(SF.count('CNPJ').alias('CNPJ_por_CEP'))\n",
        "df_4.show()"
      ],
      "execution_count": null,
      "outputs": [
        {
          "output_type": "stream",
          "text": [
            "+--------+------------+\n",
            "|     CEP|CNPJ_por_CEP|\n",
            "+--------+------------+\n",
            "|03691160|           4|\n",
            "|73900000|          31|\n",
            "|95059990|           3|\n",
            "|15735000|           4|\n",
            "|51110160|          77|\n",
            "|41830451|           1|\n",
            "|06765307|           5|\n",
            "|09190210|          24|\n",
            "|09371490|           6|\n",
            "|28300000|          65|\n",
            "|14060770|           2|\n",
            "|79580000|          20|\n",
            "|86455000|           4|\n",
            "|04385080|           4|\n",
            "|41940380|           4|\n",
            "|13505120|           2|\n",
            "|04079001|           6|\n",
            "|13390000|          13|\n",
            "|72110015|           6|\n",
            "|85914120|           1|\n",
            "+--------+------------+\n",
            "only showing top 20 rows\n",
            "\n"
          ],
          "name": "stdout"
        }
      ]
    },
    {
      "cell_type": "markdown",
      "metadata": {
        "id": "6kpSEwbyJAQR",
        "colab_type": "text"
      },
      "source": [
        "-> União dos Dataframes"
      ]
    },
    {
      "cell_type": "code",
      "metadata": {
        "id": "OCZ-UgiYJAQS",
        "colab_type": "code",
        "colab": {}
      },
      "source": [
        "dfFinal = df.join(df_1, 'CNPJ', 'left')"
      ],
      "execution_count": null,
      "outputs": []
    },
    {
      "cell_type": "code",
      "metadata": {
        "id": "KbFMqRt9JAQV",
        "colab_type": "code",
        "colab": {}
      },
      "source": [
        "dfFinal = dfFinal.join(df_2, 'CNPJ', 'left')"
      ],
      "execution_count": null,
      "outputs": []
    },
    {
      "cell_type": "code",
      "metadata": {
        "id": "s19c842RJAQe",
        "colab_type": "code",
        "colab": {}
      },
      "source": [
        "dfFinal = dfFinal.join(df_3, 'CNPJ', 'left')"
      ],
      "execution_count": null,
      "outputs": []
    },
    {
      "cell_type": "code",
      "metadata": {
        "id": "COVJGLqWJAQi",
        "colab_type": "code",
        "colab": {}
      },
      "source": [
        "dfFinal = dfFinal.join(df_4, 'CEP', 'left')"
      ],
      "execution_count": null,
      "outputs": []
    },
    {
      "cell_type": "code",
      "metadata": {
        "id": "pEFKbIusJAQo",
        "colab_type": "code",
        "colab": {},
        "outputId": "481e36a3-ef81-41e7-d670-331193ccccf2"
      },
      "source": [
        "dfFinal.columns"
      ],
      "execution_count": null,
      "outputs": [
        {
          "output_type": "execute_result",
          "data": {
            "text/plain": [
              "['CEP',\n",
              " 'CNPJ',\n",
              " 'NOME_EMPRESA',\n",
              " 'FANTASIA',\n",
              " 'NATUREZA_JURIDICA',\n",
              " 'ATIVIDADE_PRINCIPAL',\n",
              " 'ATIVIDADES_SECUNDARIAS',\n",
              " 'CNPJ_FORMATADO',\n",
              " 'TIPO',\n",
              " 'LOGRADOURO',\n",
              " 'NUMERO',\n",
              " 'COMPLEMENTO',\n",
              " 'BAIRRO',\n",
              " 'MUNICIPIO',\n",
              " 'UF',\n",
              " 'TELEFONE_1',\n",
              " 'TELEFONE_2',\n",
              " 'EMAIL',\n",
              " 'ABERTURA',\n",
              " 'CAPITAL_SOCIAL',\n",
              " 'MOTIVO_SITUACAO',\n",
              " 'SITUACAO',\n",
              " 'DATA_SITUACAO',\n",
              " 'SITUACAO_ESPECIAL',\n",
              " 'DATA_SITUACAO_ESPECIAL',\n",
              " 'EFR',\n",
              " 'NOME_SOCIO',\n",
              " 'CARGO',\n",
              " 'NOME_REP_LEGAL',\n",
              " 'CARGO_REP_LEGAL',\n",
              " 'REF_DATE',\n",
              " 'LOAD_DATE',\n",
              " 'STATUS',\n",
              " 'QUERY_NAME',\n",
              " 'QUERY_VERSION',\n",
              " 'QUERY_STATUS',\n",
              " 'QUERY_DATE',\n",
              " 'YEAR',\n",
              " 'MONTH',\n",
              " 'RAIZ_CNPJ',\n",
              " 'QTDE_EMAILS',\n",
              " 'QTE_TELEFONES',\n",
              " 'QTE_Filiais',\n",
              " 'CNPJ_por_CEP']"
            ]
          },
          "metadata": {
            "tags": []
          },
          "execution_count": 69
        }
      ]
    },
    {
      "cell_type": "code",
      "metadata": {
        "id": "d9eT1-afJAQ3",
        "colab_type": "code",
        "colab": {},
        "outputId": "4b63b1cf-ffac-4007-cc28-61131566b6b9"
      },
      "source": [
        "dfFinal.select(['CNPJ',\n",
        "                'QTDE_EMAILS',\n",
        "                'QTE_TELEFONES',\n",
        "                'QTE_Filiais',\n",
        "                'CNPJ_por_CEP']).show(20)"
      ],
      "execution_count": null,
      "outputs": [
        {
          "output_type": "stream",
          "text": [
            "+--------------+-----------+-------------+-----------+------------+\n",
            "|          CNPJ|QTDE_EMAILS|QTE_TELEFONES|QTE_Filiais|CNPJ_por_CEP|\n",
            "+--------------+-----------+-------------+-----------+------------+\n",
            "|36487312000119|          0|            0|          2|           6|\n",
            "|20096015000102|          6|           12|          6|           6|\n",
            "|01953169000129|          2|            2|          2|          16|\n",
            "|28860602000138|          1|            1|          1|           3|\n",
            "|01589195000110|          2|            2|          2|           2|\n",
            "|87951000000155|          0|            0|          6|           6|\n",
            "|01061088000114|          0|            0|          6|          12|\n",
            "|23860083000194|          2|            4|          2|           2|\n",
            "|16908760000131|          1|            1|          1|           9|\n",
            "|24491353000108|          2|            4|          2|           7|\n",
            "|11005928000185|          0|            4|          4|           6|\n",
            "|11299837000108|          2|            2|          2|           2|\n",
            "|14102303000120|          0|            1|          1|          65|\n",
            "|22108490000187|          1|            1|          1|           3|\n",
            "|22445736000106|          2|            2|          2|           6|\n",
            "|27889029000122|          1|            1|          1|           2|\n",
            "|11320545000100|          2|            2|          2|           4|\n",
            "|11058064000160|          0|            2|          2|           2|\n",
            "|52490398000195|          0|            4|          4|          11|\n",
            "|05308989000119|          0|            0|          2|          30|\n",
            "+--------------+-----------+-------------+-----------+------------+\n",
            "only showing top 20 rows\n",
            "\n"
          ],
          "name": "stdout"
        }
      ]
    },
    {
      "cell_type": "code",
      "metadata": {
        "id": "-HHPRDfpJARC",
        "colab_type": "code",
        "colab": {}
      },
      "source": [
        ""
      ],
      "execution_count": null,
      "outputs": []
    }
  ]
}