{
  "nbformat": 4,
  "nbformat_minor": 0,
  "metadata": {
    "kernelspec": {
      "display_name": "Python 3",
      "language": "python",
      "name": "python3"
    },
    "language_info": {
      "codemirror_mode": {
        "name": "ipython",
        "version": 3
      },
      "file_extension": ".py",
      "mimetype": "text/x-python",
      "name": "python",
      "nbconvert_exporter": "python",
      "pygments_lexer": "ipython3",
      "version": "3.7.3"
    },
    "colab": {
      "name": "ML_Titanic_Laislla (Logistic Reg).ipynb",
      "provenance": [],
      "include_colab_link": true
    }
  },
  "cells": [
    {
      "cell_type": "markdown",
      "metadata": {
        "id": "view-in-github",
        "colab_type": "text"
      },
      "source": [
        "<a href=\"https://colab.research.google.com/github/lcpbrandao/Basic_ML_training/blob/master/ML_Titanic_Laislla_(Logistic_Reg).ipynb\" target=\"_parent\"><img src=\"https://colab.research.google.com/assets/colab-badge.svg\" alt=\"Open In Colab\"/></a>"
      ]
    },
    {
      "cell_type": "code",
      "metadata": {
        "id": "8LfwlWnSQiYu",
        "colab_type": "code",
        "colab": {},
        "outputId": "1c0558ae-ce1a-43bb-f4af-0a5fa52dc810"
      },
      "source": [
        "from pyspark import SparkConf, SparkContext\n",
        "from pyspark.sql import SQLContext\n",
        "import os\n",
        "\n",
        "%env SPARK_HOME=/opt/spark-2.4.3\n",
        "\n",
        "exec(open(os.path.join(os.environ[\"SPARK_HOME\"], 'python/pyspark/shell.py')).read())\n",
        "sqlContext = SQLContext(sc)"
      ],
      "execution_count": null,
      "outputs": [
        {
          "output_type": "stream",
          "text": [
            "env: SPARK_HOME=/opt/spark-2.4.3\n"
          ],
          "name": "stdout"
        },
        {
          "output_type": "error",
          "ename": "FileNotFoundError",
          "evalue": "[Errno 2] No such file or directory: '/opt/spark-2.4.3\\\\python/pyspark/shell.py'",
          "traceback": [
            "\u001b[1;31m---------------------------------------------------------------------------\u001b[0m",
            "\u001b[1;31mFileNotFoundError\u001b[0m                         Traceback (most recent call last)",
            "\u001b[1;32m<ipython-input-1-a65e0385ded0>\u001b[0m in \u001b[0;36m<module>\u001b[1;34m\u001b[0m\n\u001b[0;32m      5\u001b[0m \u001b[0mget_ipython\u001b[0m\u001b[1;33m(\u001b[0m\u001b[1;33m)\u001b[0m\u001b[1;33m.\u001b[0m\u001b[0mrun_line_magic\u001b[0m\u001b[1;33m(\u001b[0m\u001b[1;34m'env'\u001b[0m\u001b[1;33m,\u001b[0m \u001b[1;34m'SPARK_HOME=/opt/spark-2.4.3'\u001b[0m\u001b[1;33m)\u001b[0m\u001b[1;33m\u001b[0m\u001b[1;33m\u001b[0m\u001b[0m\n\u001b[0;32m      6\u001b[0m \u001b[1;33m\u001b[0m\u001b[0m\n\u001b[1;32m----> 7\u001b[1;33m \u001b[0mexec\u001b[0m\u001b[1;33m(\u001b[0m\u001b[0mopen\u001b[0m\u001b[1;33m(\u001b[0m\u001b[0mos\u001b[0m\u001b[1;33m.\u001b[0m\u001b[0mpath\u001b[0m\u001b[1;33m.\u001b[0m\u001b[0mjoin\u001b[0m\u001b[1;33m(\u001b[0m\u001b[0mos\u001b[0m\u001b[1;33m.\u001b[0m\u001b[0menviron\u001b[0m\u001b[1;33m[\u001b[0m\u001b[1;34m\"SPARK_HOME\"\u001b[0m\u001b[1;33m]\u001b[0m\u001b[1;33m,\u001b[0m \u001b[1;34m'python/pyspark/shell.py'\u001b[0m\u001b[1;33m)\u001b[0m\u001b[1;33m)\u001b[0m\u001b[1;33m.\u001b[0m\u001b[0mread\u001b[0m\u001b[1;33m(\u001b[0m\u001b[1;33m)\u001b[0m\u001b[1;33m)\u001b[0m\u001b[1;33m\u001b[0m\u001b[1;33m\u001b[0m\u001b[0m\n\u001b[0m\u001b[0;32m      8\u001b[0m \u001b[0msqlContext\u001b[0m \u001b[1;33m=\u001b[0m \u001b[0mSQLContext\u001b[0m\u001b[1;33m(\u001b[0m\u001b[0msc\u001b[0m\u001b[1;33m)\u001b[0m\u001b[1;33m\u001b[0m\u001b[1;33m\u001b[0m\u001b[0m\n",
            "\u001b[1;31mFileNotFoundError\u001b[0m: [Errno 2] No such file or directory: '/opt/spark-2.4.3\\\\python/pyspark/shell.py'"
          ]
        }
      ]
    },
    {
      "cell_type": "code",
      "metadata": {
        "id": "AqhXOzHnQiY5",
        "colab_type": "code",
        "colab": {}
      },
      "source": [
        "data = spark.read.csv(\"titanic_train.csv\", header = True, inferSchema = True )"
      ],
      "execution_count": null,
      "outputs": []
    },
    {
      "cell_type": "code",
      "metadata": {
        "id": "UKWdleSuQiZC",
        "colab_type": "code",
        "colab": {},
        "outputId": "baf55afb-fae2-4382-a751-f0a1c6fc011e"
      },
      "source": [
        "data.show(3)"
      ],
      "execution_count": null,
      "outputs": [
        {
          "output_type": "stream",
          "text": [
            "+-----------+--------+------+--------------------+------+----+-----+-----+----------------+-------+-----+--------+\n",
            "|PassengerId|Survived|Pclass|                Name|   Sex| Age|SibSp|Parch|          Ticket|   Fare|Cabin|Embarked|\n",
            "+-----------+--------+------+--------------------+------+----+-----+-----+----------------+-------+-----+--------+\n",
            "|          1|       0|     3|Braund, Mr. Owen ...|  male|22.0|    1|    0|       A/5 21171|   7.25| null|       S|\n",
            "|          2|       1|     1|Cumings, Mrs. Joh...|female|38.0|    1|    0|        PC 17599|71.2833|  C85|       C|\n",
            "|          3|       1|     3|Heikkinen, Miss. ...|female|26.0|    0|    0|STON/O2. 3101282|  7.925| null|       S|\n",
            "+-----------+--------+------+--------------------+------+----+-----+-----+----------------+-------+-----+--------+\n",
            "only showing top 3 rows\n",
            "\n"
          ],
          "name": "stdout"
        }
      ]
    },
    {
      "cell_type": "code",
      "metadata": {
        "id": "GYlV3Vs7QiZK",
        "colab_type": "code",
        "colab": {},
        "outputId": "f877aa5a-621b-4902-994b-b6ae02233c7f"
      },
      "source": [
        "data.describe().show()"
      ],
      "execution_count": null,
      "outputs": [
        {
          "output_type": "stream",
          "text": [
            "+-------+-----------------+-------------------+------------------+--------------------+------+------------------+------------------+-------------------+------------------+-----------------+-----+--------+\n",
            "|summary|      PassengerId|           Survived|            Pclass|                Name|   Sex|               Age|             SibSp|              Parch|            Ticket|             Fare|Cabin|Embarked|\n",
            "+-------+-----------------+-------------------+------------------+--------------------+------+------------------+------------------+-------------------+------------------+-----------------+-----+--------+\n",
            "|  count|              891|                891|               891|                 891|   891|               714|               891|                891|               891|              891|  204|     889|\n",
            "|   mean|            446.0| 0.3838383838383838| 2.308641975308642|                null|  null| 29.69911764705882|0.5230078563411896|0.38159371492704824|260318.54916792738| 32.2042079685746| null|    null|\n",
            "| stddev|257.3538420152301|0.48659245426485753|0.8360712409770491|                null|  null|14.526497332334035|1.1027434322934315| 0.8060572211299488|471609.26868834975|49.69342859718089| null|    null|\n",
            "|    min|                1|                  0|                 1|\"Andersson, Mr. A...|female|              0.42|                 0|                  0|            110152|              0.0|  A10|       C|\n",
            "|    max|              891|                  1|                 3|van Melkebeke, Mr...|  male|              80.0|                 8|                  6|         WE/P 5735|         512.3292|    T|       S|\n",
            "+-------+-----------------+-------------------+------------------+--------------------+------+------------------+------------------+-------------------+------------------+-----------------+-----+--------+\n",
            "\n"
          ],
          "name": "stdout"
        }
      ]
    },
    {
      "cell_type": "code",
      "metadata": {
        "id": "UjmOZYsEQiZS",
        "colab_type": "code",
        "colab": {},
        "outputId": "b9f6ef11-f788-4efb-9c4c-d15b84fd2e38"
      },
      "source": [
        "data.printSchema()"
      ],
      "execution_count": null,
      "outputs": [
        {
          "output_type": "stream",
          "text": [
            "root\n",
            " |-- PassengerId: integer (nullable = true)\n",
            " |-- Survived: integer (nullable = true)\n",
            " |-- Pclass: integer (nullable = true)\n",
            " |-- Name: string (nullable = true)\n",
            " |-- Sex: string (nullable = true)\n",
            " |-- Age: double (nullable = true)\n",
            " |-- SibSp: integer (nullable = true)\n",
            " |-- Parch: integer (nullable = true)\n",
            " |-- Ticket: string (nullable = true)\n",
            " |-- Fare: double (nullable = true)\n",
            " |-- Cabin: string (nullable = true)\n",
            " |-- Embarked: string (nullable = true)\n",
            "\n"
          ],
          "name": "stdout"
        }
      ]
    },
    {
      "cell_type": "code",
      "metadata": {
        "id": "FTJjRLiPQiZb",
        "colab_type": "code",
        "colab": {},
        "outputId": "c176c9d7-cc72-426b-d5a1-b00fcb70cc9a"
      },
      "source": [
        "df = data.drop(\"Name\", \"Ticket\")\n",
        "df.show(5)"
      ],
      "execution_count": null,
      "outputs": [
        {
          "output_type": "stream",
          "text": [
            "+-----------+--------+------+------+----+-----+-----+-------+-----+--------+\n",
            "|PassengerId|Survived|Pclass|   Sex| Age|SibSp|Parch|   Fare|Cabin|Embarked|\n",
            "+-----------+--------+------+------+----+-----+-----+-------+-----+--------+\n",
            "|          1|       0|     3|  male|22.0|    1|    0|   7.25| null|       S|\n",
            "|          2|       1|     1|female|38.0|    1|    0|71.2833|  C85|       C|\n",
            "|          3|       1|     3|female|26.0|    0|    0|  7.925| null|       S|\n",
            "|          4|       1|     1|female|35.0|    1|    0|   53.1| C123|       S|\n",
            "|          5|       0|     3|  male|35.0|    0|    0|   8.05| null|       S|\n",
            "+-----------+--------+------+------+----+-----+-----+-------+-----+--------+\n",
            "only showing top 5 rows\n",
            "\n"
          ],
          "name": "stdout"
        }
      ]
    },
    {
      "cell_type": "code",
      "metadata": {
        "id": "xdOfPc0HQiZh",
        "colab_type": "code",
        "colab": {},
        "outputId": "7171b3a6-6eac-4001-babc-2b4b557e3ef1"
      },
      "source": [
        "df.describe(\"Age\").show()"
      ],
      "execution_count": null,
      "outputs": [
        {
          "output_type": "stream",
          "text": [
            "+-------+------------------+\n",
            "|summary|               Age|\n",
            "+-------+------------------+\n",
            "|  count|               714|\n",
            "|   mean| 29.69911764705882|\n",
            "| stddev|14.526497332334035|\n",
            "|    min|              0.42|\n",
            "|    max|              80.0|\n",
            "+-------+------------------+\n",
            "\n"
          ],
          "name": "stdout"
        }
      ]
    },
    {
      "cell_type": "code",
      "metadata": {
        "id": "fzo8pHzGQiZn",
        "colab_type": "code",
        "colab": {}
      },
      "source": [
        "df = df.na.fill({'Age': df.approxQuantile('Age', [0.5], 0)[0]})\n",
        "df = df.na.fill({'Cabin': \"X\"})"
      ],
      "execution_count": null,
      "outputs": []
    },
    {
      "cell_type": "code",
      "metadata": {
        "id": "eOhXcmDOQiZv",
        "colab_type": "code",
        "colab": {}
      },
      "source": [
        "#Outra solução:\n",
        "\n",
        "mAge = df.selectExpr('percentile(Age, 0.5) as p').collect()\n",
        "age = mAge[0].asDict()['p']"
      ],
      "execution_count": null,
      "outputs": []
    },
    {
      "cell_type": "code",
      "metadata": {
        "id": "7myzIhIAQiZz",
        "colab_type": "code",
        "colab": {},
        "outputId": "b1c905a3-3def-42ae-988f-5704ab836069"
      },
      "source": [
        "#Outra solução:\n",
        "\n",
        "mAge = df.selectExpr('percentile(Age, 0.5) as p')\n",
        "mAge.show()\n",
        "mAgeC = mAge.collect()\n",
        "print(mAgeC)\n",
        "print(mAgeC[0])\n",
        "print(mAgeC[0].asDict())\n",
        "age = mAgeC[0].asDict()['p']"
      ],
      "execution_count": null,
      "outputs": [
        {
          "output_type": "stream",
          "text": [
            "+----+\n",
            "|   p|\n",
            "+----+\n",
            "|28.0|\n",
            "+----+\n",
            "\n",
            "[Row(p=28.0)]\n",
            "Row(p=28.0)\n",
            "{'p': 28.0}\n"
          ],
          "name": "stdout"
        }
      ]
    },
    {
      "cell_type": "code",
      "metadata": {
        "id": "V33p3tCeQiZ6",
        "colab_type": "code",
        "colab": {},
        "outputId": "b382f706-1c5d-4b8c-ec1d-2f62e6edd8dd"
      },
      "source": [
        "df.show(5)"
      ],
      "execution_count": null,
      "outputs": [
        {
          "output_type": "stream",
          "text": [
            "+-----------+--------+------+------+----+-----+-----+-------+-----+--------+\n",
            "|PassengerId|Survived|Pclass|   Sex| Age|SibSp|Parch|   Fare|Cabin|Embarked|\n",
            "+-----------+--------+------+------+----+-----+-----+-------+-----+--------+\n",
            "|          1|       0|     3|  male|22.0|    1|    0|   7.25|    X|       S|\n",
            "|          2|       1|     1|female|38.0|    1|    0|71.2833|  C85|       C|\n",
            "|          3|       1|     3|female|26.0|    0|    0|  7.925|    X|       S|\n",
            "|          4|       1|     1|female|35.0|    1|    0|   53.1| C123|       S|\n",
            "|          5|       0|     3|  male|35.0|    0|    0|   8.05|    X|       S|\n",
            "+-----------+--------+------+------+----+-----+-----+-------+-----+--------+\n",
            "only showing top 5 rows\n",
            "\n"
          ],
          "name": "stdout"
        }
      ]
    },
    {
      "cell_type": "code",
      "metadata": {
        "id": "JeYoBnO_QiaC",
        "colab_type": "code",
        "colab": {},
        "outputId": "b73b723b-c2ca-4ac9-cc96-2fe9e0e3f1d0"
      },
      "source": [
        "df = df.dropna()\n",
        "df = df.drop(\"Cabin\")\n",
        "df.count()"
      ],
      "execution_count": null,
      "outputs": [
        {
          "output_type": "execute_result",
          "data": {
            "text/plain": [
              "889"
            ]
          },
          "metadata": {
            "tags": []
          },
          "execution_count": 123
        }
      ]
    },
    {
      "cell_type": "code",
      "metadata": {
        "id": "DvIc1OBHQiaG",
        "colab_type": "code",
        "colab": {}
      },
      "source": [
        "#TRANSFORMAR COLUNA DE SEXO DE CATEGÓRICA PARA ÍNDICE\n",
        "\n",
        "from pyspark.ml.feature import StringIndexer\n",
        "\n",
        "indexer = StringIndexer(inputCol=\"Sex\", outputCol=\"SexIndex\")\n",
        "df = indexer.fit(df).transform(df)\n",
        "df.select(df.Sex, df.SexIndex).show()"
      ],
      "execution_count": null,
      "outputs": []
    },
    {
      "cell_type": "code",
      "metadata": {
        "id": "foE6eWmPQiaN",
        "colab_type": "code",
        "colab": {}
      },
      "source": [
        "#TRANSFORMAR COLUNA DE Embarked DE CATEGÓRICA PARA ÍNDICE (Index - 1a parte)\n",
        "\n",
        "indexer = StringIndexer(inputCol=\"Embarked\", outputCol=\"EmbarkedIndex\")\n",
        "df = indexer.fit(df).transform(df)\n",
        "df.select(df.Embarked, df.EmbarkedIndex).show()"
      ],
      "execution_count": null,
      "outputs": []
    },
    {
      "cell_type": "code",
      "metadata": {
        "id": "kkFJbkzaQiaU",
        "colab_type": "code",
        "colab": {},
        "outputId": "49e51cd6-01ef-47d2-8370-609ba150d03e"
      },
      "source": [
        "#TRANSFORMAR COLUNA DE Embarked DE CATEGÓRICA PARA ÍNDICE (OneHotEncoder - 2a parte)\n",
        "from pyspark.ml.feature import OneHotEncoderEstimator\n",
        "\n",
        "encoder = OneHotEncoderEstimator(inputCols=[\"EmbarkedIndex\"],outputCols=[\"EmbarkedVec\"])\n",
        "model = encoder.fit(df)\n",
        "df2 = model.transform(df)\n",
        "df2.select(df2.EmbarkedVec).show()"
      ],
      "execution_count": null,
      "outputs": [
        {
          "output_type": "stream",
          "text": [
            "+-------------+\n",
            "|  EmbarkedVec|\n",
            "+-------------+\n",
            "|(2,[0],[1.0])|\n",
            "|(2,[1],[1.0])|\n",
            "|(2,[0],[1.0])|\n",
            "|(2,[0],[1.0])|\n",
            "|(2,[0],[1.0])|\n",
            "|    (2,[],[])|\n",
            "|(2,[0],[1.0])|\n",
            "|(2,[0],[1.0])|\n",
            "|(2,[0],[1.0])|\n",
            "|(2,[1],[1.0])|\n",
            "|(2,[0],[1.0])|\n",
            "|(2,[0],[1.0])|\n",
            "|(2,[0],[1.0])|\n",
            "|(2,[0],[1.0])|\n",
            "|(2,[0],[1.0])|\n",
            "|(2,[0],[1.0])|\n",
            "|    (2,[],[])|\n",
            "|(2,[0],[1.0])|\n",
            "|(2,[0],[1.0])|\n",
            "|(2,[1],[1.0])|\n",
            "+-------------+\n",
            "only showing top 20 rows\n",
            "\n"
          ],
          "name": "stdout"
        }
      ]
    },
    {
      "cell_type": "code",
      "metadata": {
        "id": "axj3oq94QiaZ",
        "colab_type": "code",
        "colab": {},
        "outputId": "da839cc7-f5c3-465d-ed22-5c8c315f0895"
      },
      "source": [
        "df2.show()"
      ],
      "execution_count": null,
      "outputs": [
        {
          "output_type": "stream",
          "text": [
            "+-----------+--------+------+------+----+-----+-----+-------+--------+--------+-------------+-------------+\n",
            "|PassengerId|Survived|Pclass|   Sex| Age|SibSp|Parch|   Fare|Embarked|SexIndex|EmbarkedIndex|  EmbarkedVec|\n",
            "+-----------+--------+------+------+----+-----+-----+-------+--------+--------+-------------+-------------+\n",
            "|          1|       0|     3|  male|22.0|    1|    0|   7.25|       S|     0.0|          0.0|(2,[0],[1.0])|\n",
            "|          2|       1|     1|female|38.0|    1|    0|71.2833|       C|     1.0|          1.0|(2,[1],[1.0])|\n",
            "|          3|       1|     3|female|26.0|    0|    0|  7.925|       S|     1.0|          0.0|(2,[0],[1.0])|\n",
            "|          4|       1|     1|female|35.0|    1|    0|   53.1|       S|     1.0|          0.0|(2,[0],[1.0])|\n",
            "|          5|       0|     3|  male|35.0|    0|    0|   8.05|       S|     0.0|          0.0|(2,[0],[1.0])|\n",
            "|          6|       0|     3|  male|28.0|    0|    0| 8.4583|       Q|     0.0|          2.0|    (2,[],[])|\n",
            "|          7|       0|     1|  male|54.0|    0|    0|51.8625|       S|     0.0|          0.0|(2,[0],[1.0])|\n",
            "|          8|       0|     3|  male| 2.0|    3|    1| 21.075|       S|     0.0|          0.0|(2,[0],[1.0])|\n",
            "|          9|       1|     3|female|27.0|    0|    2|11.1333|       S|     1.0|          0.0|(2,[0],[1.0])|\n",
            "|         10|       1|     2|female|14.0|    1|    0|30.0708|       C|     1.0|          1.0|(2,[1],[1.0])|\n",
            "|         11|       1|     3|female| 4.0|    1|    1|   16.7|       S|     1.0|          0.0|(2,[0],[1.0])|\n",
            "|         12|       1|     1|female|58.0|    0|    0|  26.55|       S|     1.0|          0.0|(2,[0],[1.0])|\n",
            "|         13|       0|     3|  male|20.0|    0|    0|   8.05|       S|     0.0|          0.0|(2,[0],[1.0])|\n",
            "|         14|       0|     3|  male|39.0|    1|    5| 31.275|       S|     0.0|          0.0|(2,[0],[1.0])|\n",
            "|         15|       0|     3|female|14.0|    0|    0| 7.8542|       S|     1.0|          0.0|(2,[0],[1.0])|\n",
            "|         16|       1|     2|female|55.0|    0|    0|   16.0|       S|     1.0|          0.0|(2,[0],[1.0])|\n",
            "|         17|       0|     3|  male| 2.0|    4|    1| 29.125|       Q|     0.0|          2.0|    (2,[],[])|\n",
            "|         18|       1|     2|  male|28.0|    0|    0|   13.0|       S|     0.0|          0.0|(2,[0],[1.0])|\n",
            "|         19|       0|     3|female|31.0|    1|    0|   18.0|       S|     1.0|          0.0|(2,[0],[1.0])|\n",
            "|         20|       1|     3|female|28.0|    0|    0|  7.225|       C|     1.0|          1.0|(2,[1],[1.0])|\n",
            "+-----------+--------+------+------+----+-----+-----+-------+--------+--------+-------------+-------------+\n",
            "only showing top 20 rows\n",
            "\n"
          ],
          "name": "stdout"
        }
      ]
    },
    {
      "cell_type": "code",
      "metadata": {
        "id": "a0mIxwKZQiah",
        "colab_type": "code",
        "colab": {}
      },
      "source": [
        "#TRANSFORMAR FEATURES EM VETOR PARA PODER COLOCAR NO MODELO\n",
        "\n",
        "from pyspark.ml.feature import VectorAssembler\n",
        "\n",
        "vAssembler = VectorAssembler(inputCols = ['PassengerId',\n",
        "                                                'Pclass',\n",
        "                                                'Age',\n",
        "                                                'SibSp',\n",
        "                                                'Parch',\n",
        "                                                'Fare',\n",
        "                                                'SexIndex',\n",
        "                                                'EmbarkedVec'\n",
        "                                         ], outputCol = 'Survived')\n",
        "data = vAssembler.transform(df) # Adiciona uma nova coluna a df\n",
        "data = data.select(['features', 'label']) # Seleciona apenas a nova coluna e a saída"
      ],
      "execution_count": null,
      "outputs": []
    },
    {
      "cell_type": "code",
      "metadata": {
        "id": "VssN8JrQQiak",
        "colab_type": "code",
        "colab": {}
      },
      "source": [
        "#SEPARAR BASE DE TREINAMENTO E TESTE"
      ],
      "execution_count": null,
      "outputs": []
    },
    {
      "cell_type": "code",
      "metadata": {
        "id": "z7CtGC8yQiau",
        "colab_type": "code",
        "colab": {}
      },
      "source": [
        "#MODELO REGRASSÃO LOGÍSTICA"
      ],
      "execution_count": null,
      "outputs": []
    },
    {
      "cell_type": "code",
      "metadata": {
        "id": "zuIPREGDQia1",
        "colab_type": "code",
        "colab": {}
      },
      "source": [
        "#EFICIÊNCIA - RESULTADOS DO TREINO"
      ],
      "execution_count": null,
      "outputs": []
    }
  ]
}