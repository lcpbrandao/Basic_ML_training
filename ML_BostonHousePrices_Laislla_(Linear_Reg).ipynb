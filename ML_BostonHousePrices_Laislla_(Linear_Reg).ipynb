{
  "nbformat": 4,
  "nbformat_minor": 0,
  "metadata": {
    "kernelspec": {
      "display_name": "Python 3",
      "language": "python",
      "name": "python3"
    },
    "language_info": {
      "codemirror_mode": {
        "name": "ipython",
        "version": 3
      },
      "file_extension": ".py",
      "mimetype": "text/x-python",
      "name": "python",
      "nbconvert_exporter": "python",
      "pygments_lexer": "ipython3",
      "version": "3.5.2"
    },
    "colab": {
      "name": "ML_BostonHousePrices_Laislla (Linear Reg).ipynb",
      "provenance": [],
      "include_colab_link": true
    }
  },
  "cells": [
    {
      "cell_type": "markdown",
      "metadata": {
        "id": "view-in-github",
        "colab_type": "text"
      },
      "source": [
        "<a href=\"https://colab.research.google.com/github/lcpbrandao/Basic_ML_training/blob/master/ML_BostonHousePrices_Laislla_(Linear_Reg).ipynb\" target=\"_parent\"><img src=\"https://colab.research.google.com/assets/colab-badge.svg\" alt=\"Open In Colab\"/></a>"
      ]
    },
    {
      "cell_type": "code",
      "metadata": {
        "id": "5r2w-L-oQjfx",
        "colab_type": "code",
        "colab": {}
      },
      "source": [
        "from pyspark import SparkConf, SparkContext\n",
        "from pyspark.sql import SQLContext\n",
        "import os\n",
        "\n",
        "%env SPARK_HOME=/opt/spark-2.4.3\n",
        "\n",
        "exec(open(os.path.join(os.environ[\"SPARK_HOME\"], 'python/pyspark/shell.py')).read())\n",
        "sqlContext = SQLContext(sc)"
      ],
      "execution_count": null,
      "outputs": []
    },
    {
      "cell_type": "code",
      "metadata": {
        "id": "DPZgeBh_QjgK",
        "colab_type": "code",
        "colab": {}
      },
      "source": [
        "df = spark.read.csv(\"boston.csv\", header = True, inferSchema = True )"
      ],
      "execution_count": null,
      "outputs": []
    },
    {
      "cell_type": "code",
      "metadata": {
        "id": "atmAuX0yQjga",
        "colab_type": "code",
        "colab": {},
        "outputId": "88918103-4d37-4d3f-e4d2-c4e8f3994c69"
      },
      "source": [
        "df.show(5)"
      ],
      "execution_count": null,
      "outputs": [
        {
          "output_type": "stream",
          "text": [
            "+-------+----+------+----+-----+-----+----+------+---+---+-------+-----+----+\n",
            "|   CRIM| ZN |INDUS |CHAS|  NOX|   RM| AGE|   DIS|RAD|TAX|PTRATIO|LSTAT|MEDV|\n",
            "+-------+----+------+----+-----+-----+----+------+---+---+-------+-----+----+\n",
            "|0.00632|18.0|  2.31|   0|0.538|6.575|65.2|  4.09|  1|296|   15.3| 4.98|24.0|\n",
            "|0.02731| 0.0|  7.07|   0|0.469|6.421|78.9|4.9671|  2|242|   17.8| 9.14|21.6|\n",
            "|0.02729| 0.0|  7.07|   0|0.469|7.185|61.1|4.9671|  2|242|   17.8| 4.03|34.7|\n",
            "|0.03237| 0.0|  2.18|   0|0.458|6.998|45.8|6.0622|  3|222|   18.7| 2.94|33.4|\n",
            "|0.06905| 0.0|  2.18|   0|0.458|7.147|54.2|6.0622|  3|222|   18.7| 5.33|36.2|\n",
            "+-------+----+------+----+-----+-----+----+------+---+---+-------+-----+----+\n",
            "only showing top 5 rows\n",
            "\n"
          ],
          "name": "stdout"
        }
      ]
    },
    {
      "cell_type": "code",
      "metadata": {
        "id": "6PokrksnQjgp",
        "colab_type": "code",
        "colab": {},
        "outputId": "b1eaee40-80f6-42f7-c93b-ba9a52b39656"
      },
      "source": [
        "import pandas as pd\n",
        "import matplotlib.pyplot as plt\n",
        "import seaborn as sns\n",
        "import numpy as np\n",
        "%matplotlib inline\n",
        "\n",
        "boston = df.toPandas()\n",
        "\n",
        "#HEATMAP PARA VER OS VALORES NULOS NAS COLUNAS\n",
        "sns.heatmap(boston.isnull(),yticklabels=False,cbar=False,cmap='viridis')"
      ],
      "execution_count": null,
      "outputs": [
        {
          "output_type": "execute_result",
          "data": {
            "text/plain": [
              "<matplotlib.axes._subplots.AxesSubplot at 0x7fe870a64588>"
            ]
          },
          "metadata": {
            "tags": []
          },
          "execution_count": 47
        },
        {
          "output_type": "display_data",
          "data": {
            "image/png": "[encoded data removed]",
            "text/plain": [
              "<matplotlib.figure.Figure at 0x7fe8cc3cafd0>"
            ]
          },
          "metadata": {
            "tags": []
          }
        }
      ]
    },
    {
      "cell_type": "code",
      "metadata": {
        "id": "JLZrfwkOQjg1",
        "colab_type": "code",
        "colab": {},
        "outputId": "311598be-4b16-49bd-83df-c34b9a37c1bb"
      },
      "source": [
        "#GRÁFICO SCATTERPLOT ENTRE A FEATURE E O LABEL\n",
        "\n",
        "plt.figure(figsize = (15,5))\n",
        "plt.subplot(131)\n",
        "plt.scatter(boston.LSTAT, boston.MEDV, color = 'g')\n",
        "plt.title('Gráfico LSTAT vs MEDV')\n",
        "plt.xlabel('LSTAT')\n",
        "plt.ylabel('MEDV')"
      ],
      "execution_count": null,
      "outputs": [
        {
          "output_type": "execute_result",
          "data": {
            "text/plain": [
              "Text(0,0.5,'MEDV')"
            ]
          },
          "metadata": {
            "tags": []
          },
          "execution_count": 58
        },
        {
          "output_type": "display_data",
          "data": {
            "image/png": "[encoded data removed]",
            "text/plain": [
              "<matplotlib.figure.Figure at 0x7fe870764c88>"
            ]
          },
          "metadata": {
            "tags": []
          }
        }
      ]
    },
    {
      "cell_type": "code",
      "metadata": {
        "id": "MxqAMyhpQjhC",
        "colab_type": "code",
        "colab": {}
      },
      "source": [
        "#TRANSFORMAR FEATURES EM VETOR PARA PODER COLOCAR NO MODELO\n",
        "\n",
        "from pyspark.ml.feature import VectorAssembler\n",
        "\n",
        "vAssembler = VectorAssembler(inputCols = ['LSTAT'], outputCol = 'features')\n",
        "df2 = vAssembler.transform(df) # Adiciona uma nova coluna a df\n",
        "df2 = df2.select(['features', 'MEDV']) # Seleciona apenas a nova coluna e a saída\n"
      ],
      "execution_count": null,
      "outputs": []
    },
    {
      "cell_type": "code",
      "metadata": {
        "id": "IRQPX7IbQjhK",
        "colab_type": "code",
        "colab": {},
        "outputId": "7c721919-d5eb-4f0c-f7a2-279d9c467595"
      },
      "source": [
        "#SEPARAR BASE DE TREINAMENTO E TESTE\n",
        "\n",
        "from pyspark.sql import DataFrame\n",
        "splits = df2.randomSplit([0.7, 0.3]) # Divide os dados em dois conjuntos randômicos\n",
        "train = splits[0] # com 70% dos dados\n",
        "test = splits[1] # e os 30% restantes\n",
        "\n",
        "train.show(3)\n",
        "test.show(3)"
      ],
      "execution_count": null,
      "outputs": [
        {
          "output_type": "stream",
          "text": [
            "+--------+----+\n",
            "|features|MEDV|\n",
            "+--------+----+\n",
            "|  [1.92]|50.0|\n",
            "|  [2.47]|41.7|\n",
            "|  [2.88]|50.0|\n",
            "+--------+----+\n",
            "only showing top 3 rows\n",
            "\n",
            "+--------+----+\n",
            "|features|MEDV|\n",
            "+--------+----+\n",
            "|  [1.73]|50.0|\n",
            "|  [1.98]|34.9|\n",
            "|  [2.87]|36.4|\n",
            "+--------+----+\n",
            "only showing top 3 rows\n",
            "\n"
          ],
          "name": "stdout"
        }
      ]
    },
    {
      "cell_type": "code",
      "metadata": {
        "id": "DioAe_nCQjhu",
        "colab_type": "code",
        "colab": {}
      },
      "source": [
        "#MODELO REGRASSÃO LINEAR\n",
        "\n",
        "from pyspark.ml.regression import LinearRegression\n",
        "\n",
        "# Cria o modelo\n",
        "lreg = LinearRegression(featuresCol= 'features', labelCol= 'MEDV', maxIter = 30, regParam = 0.3, elasticNetParam = 0.8)\n",
        "\n",
        "# Treina o modelo com a base de treinamento (data frame formatado)\n",
        "lrModel = lreg.fit(train)\n",
        "\n",
        "# Aplica o modelo treinado para predizer a saída (label) na base de testes\n",
        "predictions = lrModel.transform(test)"
      ],
      "execution_count": null,
      "outputs": []
    },
    {
      "cell_type": "code",
      "metadata": {
        "id": "qiOa0sgxQjh9",
        "colab_type": "code",
        "colab": {},
        "outputId": "719ae44c-f063-497f-b9a6-4699aa527f92"
      },
      "source": [
        "trainingSummary = lrModel.summary\n",
        "print(\"RMSE: %f\" % trainingSummary.rootMeanSquaredError)\n",
        "print(\"r2: %f\" % trainingSummary.r2)\n",
        "\n"
      ],
      "execution_count": null,
      "outputs": [
        {
          "output_type": "stream",
          "text": [
            "RMSE: 6.034773\n",
            "r2: 0.551540\n"
          ],
          "name": "stdout"
        }
      ]
    },
    {
      "cell_type": "code",
      "metadata": {
        "id": "wIcs08X2QjiM",
        "colab_type": "code",
        "colab": {},
        "outputId": "707f893b-c089-41db-dc90-ab26be851113"
      },
      "source": [
        "train.describe().show()"
      ],
      "execution_count": null,
      "outputs": [
        {
          "output_type": "stream",
          "text": [
            "+-------+-----------------+\n",
            "|summary|             MEDV|\n",
            "+-------+-----------------+\n",
            "|  count|              357|\n",
            "|   mean|22.79887955182073|\n",
            "| stddev|9.024184041644654|\n",
            "|    min|              5.0|\n",
            "|    max|             50.0|\n",
            "+-------+-----------------+\n",
            "\n"
          ],
          "name": "stdout"
        }
      ]
    }
  ]
}