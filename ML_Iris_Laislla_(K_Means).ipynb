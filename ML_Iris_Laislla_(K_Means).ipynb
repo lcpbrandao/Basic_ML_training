{
  "nbformat": 4,
  "nbformat_minor": 0,
  "metadata": {
    "kernelspec": {
      "display_name": "Python 3",
      "language": "python",
      "name": "python3"
    },
    "language_info": {
      "codemirror_mode": {
        "name": "ipython",
        "version": 3
      },
      "file_extension": ".py",
      "mimetype": "text/x-python",
      "name": "python",
      "nbconvert_exporter": "python",
      "pygments_lexer": "ipython3",
      "version": "3.7.3"
    },
    "colab": {
      "name": "ML_Iris_Laislla (K-Means).ipynb",
      "provenance": [],
      "include_colab_link": true
    }
  },
  "cells": [
    {
      "cell_type": "markdown",
      "metadata": {
        "id": "view-in-github",
        "colab_type": "text"
      },
      "source": [
        "<a href=\"https://colab.research.google.com/github/lcpbrandao/Basic_ML_training/blob/master/ML_Iris_Laislla_(K_Means).ipynb\" target=\"_parent\"><img src=\"https://colab.research.google.com/assets/colab-badge.svg\" alt=\"Open In Colab\"/></a>"
      ]
    },
    {
      "cell_type": "code",
      "metadata": {
        "id": "PQCda2osLFli",
        "colab_type": "code",
        "colab": {},
        "outputId": "437f20b4-9478-45b4-c0d6-b24e78da42da"
      },
      "source": [
        "from pyspark import SparkConf, SparkContext\n",
        "from pyspark.sql import SQLContext\n",
        "import os\n",
        "\n",
        "%env SPARK_HOME=/opt/spark-2.4.3\n",
        "\n",
        "exec(open(os.path.join(os.environ[\"SPARK_HOME\"], 'python/pyspark/shell.py')).read())\n",
        "sqlContext = SQLContext(sc)"
      ],
      "execution_count": null,
      "outputs": [
        {
          "output_type": "stream",
          "text": [
            "env: SPARK_HOME=/opt/spark-2.4.3\n",
            "Welcome to\n",
            "      ____              __\n",
            "     / __/__  ___ _____/ /__\n",
            "    _\\ \\/ _ \\/ _ `/ __/  '_/\n",
            "   /__ / .__/\\_,_/_/ /_/\\_\\   version 2.4.3\n",
            "      /_/\n",
            "\n",
            "Using Python version 3.5.2 (default, Nov 12 2018 13:43:14)\n",
            "SparkSession available as 'spark'.\n"
          ],
          "name": "stdout"
        }
      ]
    },
    {
      "cell_type": "code",
      "metadata": {
        "id": "K4ptT7HILFmA",
        "colab_type": "code",
        "colab": {}
      },
      "source": [
        "data = spark.read.csv(\"iris.data\", header = False, inferSchema = True )"
      ],
      "execution_count": null,
      "outputs": []
    },
    {
      "cell_type": "code",
      "metadata": {
        "id": "ocq6hEnULFmz",
        "colab_type": "code",
        "colab": {},
        "outputId": "f7deb551-9215-4b04-fbc0-f9fc0019155a"
      },
      "source": [
        "data.show(5)"
      ],
      "execution_count": null,
      "outputs": [
        {
          "output_type": "stream",
          "text": [
            "+---+---+---+---+-----------+\n",
            "|_c0|_c1|_c2|_c3|        _c4|\n",
            "+---+---+---+---+-----------+\n",
            "|5.1|3.5|1.4|0.2|Iris-setosa|\n",
            "|4.9|3.0|1.4|0.2|Iris-setosa|\n",
            "|4.7|3.2|1.3|0.2|Iris-setosa|\n",
            "|4.6|3.1|1.5|0.2|Iris-setosa|\n",
            "|5.0|3.6|1.4|0.2|Iris-setosa|\n",
            "+---+---+---+---+-----------+\n",
            "only showing top 5 rows\n",
            "\n"
          ],
          "name": "stdout"
        }
      ]
    },
    {
      "cell_type": "code",
      "metadata": {
        "id": "ZJhSTHxiLFm-",
        "colab_type": "code",
        "colab": {}
      },
      "source": [
        "#TRANSFORMAR FEATURES EM VETOR PARA PODER COLOCAR NO MODELO\n",
        "\n",
        "from pyspark.ml.feature import VectorAssembler\n",
        "\n",
        "vAssembler = VectorAssembler(inputCols = ['_c0', '_c1', '_c2', '_c3'],outputCol = 'features')\n",
        "df2 = vAssembler.transform(data) # Adiciona uma nova coluna a df\n",
        "df2 = df2.select(['features', '_c4']) # Seleciona apenas a nova coluna e a saída"
      ],
      "execution_count": null,
      "outputs": []
    },
    {
      "cell_type": "code",
      "metadata": {
        "id": "gnWjqDNKLFnM",
        "colab_type": "code",
        "colab": {},
        "outputId": "7a624825-5ee1-4b85-e536-75417d797422"
      },
      "source": [
        "#SEPARAR BASE DE TREINAMENTO E TESTE\n",
        "\n",
        "from pyspark.sql import DataFrame\n",
        "splits = df2.randomSplit([0.7, 0.3]) # Divide os dados em dois conjuntos randômicos\n",
        "train = splits[0] # com 70% dos dados\n",
        "test = splits[1] # e os 30% restantes\n",
        "\n",
        "train.show(3)\n",
        "test.show(3)"
      ],
      "execution_count": null,
      "outputs": [
        {
          "output_type": "stream",
          "text": [
            "+-----------------+-----------+\n",
            "|         features|        _c4|\n",
            "+-----------------+-----------+\n",
            "|[4.4,3.0,1.3,0.2]|Iris-setosa|\n",
            "|[4.6,3.1,1.5,0.2]|Iris-setosa|\n",
            "|[4.6,3.2,1.4,0.2]|Iris-setosa|\n",
            "+-----------------+-----------+\n",
            "only showing top 3 rows\n",
            "\n",
            "+-----------------+-----------+\n",
            "|         features|        _c4|\n",
            "+-----------------+-----------+\n",
            "|[4.3,3.0,1.1,0.1]|Iris-setosa|\n",
            "|[4.4,2.9,1.4,0.2]|Iris-setosa|\n",
            "|[4.4,3.2,1.3,0.2]|Iris-setosa|\n",
            "+-----------------+-----------+\n",
            "only showing top 3 rows\n",
            "\n"
          ],
          "name": "stdout"
        }
      ]
    },
    {
      "cell_type": "code",
      "metadata": {
        "id": "hbOqfppCLFnZ",
        "colab_type": "code",
        "colab": {}
      },
      "source": [
        "#MODELO K-Means (K=2)\n",
        "\n",
        "from pyspark.ml.clustering import KMeans # importa o pacote cluster\n",
        "\n",
        "kMeans = KMeans(featuresCol='features', k=2) # Cria o modelo\n",
        "\n",
        "model_k2 = kMeans.fit(train) # Computa os clusters k-means\n",
        "prediction_k2 = model_k2.transform(df2) # Calcula os grupos para dados de test"
      ],
      "execution_count": null,
      "outputs": []
    },
    {
      "cell_type": "code",
      "metadata": {
        "id": "aQ-y-C3HLFnp",
        "colab_type": "code",
        "colab": {}
      },
      "source": [
        "#MODELO K-Means (K=3)\n",
        "\n",
        "kMeans = KMeans(featuresCol='features', k=3) # Cria o modelo\n",
        "\n",
        "model_k3 = kMeans.fit(train) # Computa os clusters k-means\n",
        "prediction_k3 = model_k3.transform(df2) # Calcula os grupos para dados de test"
      ],
      "execution_count": null,
      "outputs": []
    },
    {
      "cell_type": "code",
      "metadata": {
        "id": "omtpFvumLFn7",
        "colab_type": "code",
        "colab": {}
      },
      "source": [
        "#MODELO K-Means (K=4)\n",
        "\n",
        "kMeans = KMeans(featuresCol='features', k=4) # Cria o modelo\n",
        "\n",
        "model_k4 = kMeans.fit(train) # Computa os clusters k-means\n",
        "prediction_k4 = model_k4.transform(df2) # Calcula os grupos para dados de test"
      ],
      "execution_count": null,
      "outputs": []
    },
    {
      "cell_type": "code",
      "metadata": {
        "id": "502W9fO2LFoI",
        "colab_type": "code",
        "colab": {},
        "outputId": "83868f14-c2ad-4414-8def-6f27233c4218"
      },
      "source": [
        "#TRANSFORMAR COLUNA PREDITORA ('_c4') DE CATEGÓRICA PARA ÍNDICE\n",
        "\n",
        "from pyspark.ml.feature import StringIndexer\n",
        "\n",
        "indexer = StringIndexer(inputCol=\"_c4\", outputCol=\"Nome\")\n",
        "df = indexer.fit(data).transform(data)\n",
        "df.show()"
      ],
      "execution_count": null,
      "outputs": [
        {
          "output_type": "stream",
          "text": [
            "+---+---+---+---+-----------+----+\n",
            "|_c0|_c1|_c2|_c3|        _c4|Nome|\n",
            "+---+---+---+---+-----------+----+\n",
            "|5.1|3.5|1.4|0.2|Iris-setosa| 0.0|\n",
            "|4.9|3.0|1.4|0.2|Iris-setosa| 0.0|\n",
            "|4.7|3.2|1.3|0.2|Iris-setosa| 0.0|\n",
            "|4.6|3.1|1.5|0.2|Iris-setosa| 0.0|\n",
            "|5.0|3.6|1.4|0.2|Iris-setosa| 0.0|\n",
            "|5.4|3.9|1.7|0.4|Iris-setosa| 0.0|\n",
            "|4.6|3.4|1.4|0.3|Iris-setosa| 0.0|\n",
            "|5.0|3.4|1.5|0.2|Iris-setosa| 0.0|\n",
            "|4.4|2.9|1.4|0.2|Iris-setosa| 0.0|\n",
            "|4.9|3.1|1.5|0.1|Iris-setosa| 0.0|\n",
            "|5.4|3.7|1.5|0.2|Iris-setosa| 0.0|\n",
            "|4.8|3.4|1.6|0.2|Iris-setosa| 0.0|\n",
            "|4.8|3.0|1.4|0.1|Iris-setosa| 0.0|\n",
            "|4.3|3.0|1.1|0.1|Iris-setosa| 0.0|\n",
            "|5.8|4.0|1.2|0.2|Iris-setosa| 0.0|\n",
            "|5.7|4.4|1.5|0.4|Iris-setosa| 0.0|\n",
            "|5.4|3.9|1.3|0.4|Iris-setosa| 0.0|\n",
            "|5.1|3.5|1.4|0.3|Iris-setosa| 0.0|\n",
            "|5.7|3.8|1.7|0.3|Iris-setosa| 0.0|\n",
            "|5.1|3.8|1.5|0.3|Iris-setosa| 0.0|\n",
            "+---+---+---+---+-----------+----+\n",
            "only showing top 20 rows\n",
            "\n"
          ],
          "name": "stdout"
        }
      ]
    },
    {
      "cell_type": "code",
      "metadata": {
        "id": "AbbAQ0p3LFoZ",
        "colab_type": "code",
        "colab": {},
        "outputId": "281320cc-e6ce-4b2e-c2cb-4a6f45aea1f1"
      },
      "source": [
        "import matplotlib.pyplot as plt\n",
        "\n",
        "data = df.collect()\n",
        "sL = [float(row['_c0']) for row in data]\n",
        "sW = [float(row['_c1']) for row in data]\n",
        "pL = [float(row['_c2']) for row in data]\n",
        "pW = [float(row['_c3']) for row in data]\n",
        "labels = [float(row['Nome']) for row in data]\n",
        "\n",
        "plt.subplot(1,2,1)\n",
        "plt.scatter(sL, sW, c=labels)\n",
        "plt.subplot(1,2,2)\n",
        "plt.scatter(pL, pW, c=labels)\n",
        "plt.title(\"My Plot\")"
      ],
      "execution_count": null,
      "outputs": [
        {
          "output_type": "execute_result",
          "data": {
            "text/plain": [
              "Text(0.5,1,'My Plot')"
            ]
          },
          "metadata": {
            "tags": []
          },
          "execution_count": 10
        }
      ]
    },
    {
      "cell_type": "code",
      "metadata": {
        "id": "PaQx0BauLFoj",
        "colab_type": "code",
        "colab": {},
        "outputId": "e9f4ea69-1043-45a9-9b65-039b3196bdab"
      },
      "source": [
        "#TRANSFORMAR COLUNA PREDITA ('prediction_k2') DE CATEGÓRICA PARA ÍNDICE\n",
        "\n",
        "from pyspark.ml.feature import StringIndexer\n",
        "\n",
        "indexer = StringIndexer(inputCol=\"_c4\", outputCol=\"Nome_k2\")\n",
        "df_k2 = indexer.fit(prediction_k2).transform(prediction_k2)\n",
        "df_k2.show()\n",
        "\n",
        "indexer = StringIndexer(inputCol=\"_c4\", outputCol=\"Nome_k3\")\n",
        "df_k3 = indexer.fit(prediction_k3).transform(prediction_k3)\n",
        "df_k3.show()\n",
        "\n",
        "indexer = StringIndexer(inputCol=\"_c4\", outputCol=\"Nome_k4\")\n",
        "df_k4 = indexer.fit(prediction_k4).transform(prediction_k4)\n",
        "df_k4.show()"
      ],
      "execution_count": null,
      "outputs": [
        {
          "output_type": "stream",
          "text": [
            "+-----------------+-----------+----------+-------+\n",
            "|         features|        _c4|prediction|Nome_k2|\n",
            "+-----------------+-----------+----------+-------+\n",
            "|[5.1,3.5,1.4,0.2]|Iris-setosa|         1|    0.0|\n",
            "|[4.9,3.0,1.4,0.2]|Iris-setosa|         1|    0.0|\n",
            "|[4.7,3.2,1.3,0.2]|Iris-setosa|         1|    0.0|\n",
            "|[4.6,3.1,1.5,0.2]|Iris-setosa|         1|    0.0|\n",
            "|[5.0,3.6,1.4,0.2]|Iris-setosa|         1|    0.0|\n",
            "|[5.4,3.9,1.7,0.4]|Iris-setosa|         1|    0.0|\n",
            "|[4.6,3.4,1.4,0.3]|Iris-setosa|         1|    0.0|\n",
            "|[5.0,3.4,1.5,0.2]|Iris-setosa|         1|    0.0|\n",
            "|[4.4,2.9,1.4,0.2]|Iris-setosa|         1|    0.0|\n",
            "|[4.9,3.1,1.5,0.1]|Iris-setosa|         1|    0.0|\n",
            "|[5.4,3.7,1.5,0.2]|Iris-setosa|         1|    0.0|\n",
            "|[4.8,3.4,1.6,0.2]|Iris-setosa|         1|    0.0|\n",
            "|[4.8,3.0,1.4,0.1]|Iris-setosa|         1|    0.0|\n",
            "|[4.3,3.0,1.1,0.1]|Iris-setosa|         1|    0.0|\n",
            "|[5.8,4.0,1.2,0.2]|Iris-setosa|         1|    0.0|\n",
            "|[5.7,4.4,1.5,0.4]|Iris-setosa|         1|    0.0|\n",
            "|[5.4,3.9,1.3,0.4]|Iris-setosa|         1|    0.0|\n",
            "|[5.1,3.5,1.4,0.3]|Iris-setosa|         1|    0.0|\n",
            "|[5.7,3.8,1.7,0.3]|Iris-setosa|         1|    0.0|\n",
            "|[5.1,3.8,1.5,0.3]|Iris-setosa|         1|    0.0|\n",
            "+-----------------+-----------+----------+-------+\n",
            "only showing top 20 rows\n",
            "\n",
            "+-----------------+-----------+----------+-------+\n",
            "|         features|        _c4|prediction|Nome_k3|\n",
            "+-----------------+-----------+----------+-------+\n",
            "|[5.1,3.5,1.4,0.2]|Iris-setosa|         1|    0.0|\n",
            "|[4.9,3.0,1.4,0.2]|Iris-setosa|         1|    0.0|\n",
            "|[4.7,3.2,1.3,0.2]|Iris-setosa|         1|    0.0|\n",
            "|[4.6,3.1,1.5,0.2]|Iris-setosa|         1|    0.0|\n",
            "|[5.0,3.6,1.4,0.2]|Iris-setosa|         1|    0.0|\n",
            "|[5.4,3.9,1.7,0.4]|Iris-setosa|         1|    0.0|\n",
            "|[4.6,3.4,1.4,0.3]|Iris-setosa|         1|    0.0|\n",
            "|[5.0,3.4,1.5,0.2]|Iris-setosa|         1|    0.0|\n",
            "|[4.4,2.9,1.4,0.2]|Iris-setosa|         1|    0.0|\n",
            "|[4.9,3.1,1.5,0.1]|Iris-setosa|         1|    0.0|\n",
            "|[5.4,3.7,1.5,0.2]|Iris-setosa|         1|    0.0|\n",
            "|[4.8,3.4,1.6,0.2]|Iris-setosa|         1|    0.0|\n",
            "|[4.8,3.0,1.4,0.1]|Iris-setosa|         1|    0.0|\n",
            "|[4.3,3.0,1.1,0.1]|Iris-setosa|         1|    0.0|\n",
            "|[5.8,4.0,1.2,0.2]|Iris-setosa|         1|    0.0|\n",
            "|[5.7,4.4,1.5,0.4]|Iris-setosa|         1|    0.0|\n",
            "|[5.4,3.9,1.3,0.4]|Iris-setosa|         1|    0.0|\n",
            "|[5.1,3.5,1.4,0.3]|Iris-setosa|         1|    0.0|\n",
            "|[5.7,3.8,1.7,0.3]|Iris-setosa|         1|    0.0|\n",
            "|[5.1,3.8,1.5,0.3]|Iris-setosa|         1|    0.0|\n",
            "+-----------------+-----------+----------+-------+\n",
            "only showing top 20 rows\n",
            "\n",
            "+-----------------+-----------+----------+-------+\n",
            "|         features|        _c4|prediction|Nome_k4|\n",
            "+-----------------+-----------+----------+-------+\n",
            "|[5.1,3.5,1.4,0.2]|Iris-setosa|         1|    0.0|\n",
            "|[4.9,3.0,1.4,0.2]|Iris-setosa|         1|    0.0|\n",
            "|[4.7,3.2,1.3,0.2]|Iris-setosa|         1|    0.0|\n",
            "|[4.6,3.1,1.5,0.2]|Iris-setosa|         1|    0.0|\n",
            "|[5.0,3.6,1.4,0.2]|Iris-setosa|         1|    0.0|\n",
            "|[5.4,3.9,1.7,0.4]|Iris-setosa|         1|    0.0|\n",
            "|[4.6,3.4,1.4,0.3]|Iris-setosa|         1|    0.0|\n",
            "|[5.0,3.4,1.5,0.2]|Iris-setosa|         1|    0.0|\n",
            "|[4.4,2.9,1.4,0.2]|Iris-setosa|         1|    0.0|\n",
            "|[4.9,3.1,1.5,0.1]|Iris-setosa|         1|    0.0|\n",
            "|[5.4,3.7,1.5,0.2]|Iris-setosa|         1|    0.0|\n",
            "|[4.8,3.4,1.6,0.2]|Iris-setosa|         1|    0.0|\n",
            "|[4.8,3.0,1.4,0.1]|Iris-setosa|         1|    0.0|\n",
            "|[4.3,3.0,1.1,0.1]|Iris-setosa|         1|    0.0|\n",
            "|[5.8,4.0,1.2,0.2]|Iris-setosa|         1|    0.0|\n",
            "|[5.7,4.4,1.5,0.4]|Iris-setosa|         1|    0.0|\n",
            "|[5.4,3.9,1.3,0.4]|Iris-setosa|         1|    0.0|\n",
            "|[5.1,3.5,1.4,0.3]|Iris-setosa|         1|    0.0|\n",
            "|[5.7,3.8,1.7,0.3]|Iris-setosa|         1|    0.0|\n",
            "|[5.1,3.8,1.5,0.3]|Iris-setosa|         1|    0.0|\n",
            "+-----------------+-----------+----------+-------+\n",
            "only showing top 20 rows\n",
            "\n"
          ],
          "name": "stdout"
        }
      ]
    },
    {
      "cell_type": "code",
      "metadata": {
        "id": "WqG8KR9XLFoq",
        "colab_type": "code",
        "colab": {},
        "outputId": "56599278-1ec6-4152-8502-e6d7952edd4b"
      },
      "source": [
        "# COMPARAÇÃO CLUSTERS REAIS E CLUSTERS PREDITOS (K=2)\n",
        "import matplotlib.pyplot as plt\n",
        "\n",
        "data = df.collect()\n",
        "data_k2 = df_k2.collect()\n",
        "pL = [float(row['_c2']) for row in data]\n",
        "pW = [float(row['_c3']) for row in data]\n",
        "labels = [float(row['Nome']) for row in data]\n",
        "labels_k2 = [float(row['prediction']) for row in data_k2]\n",
        "\n",
        "plt.subplot(1,2,1)\n",
        "plt.scatter(pL, pW, c=labels)\n",
        "plt.subplot(1,2,2)\n",
        "plt.scatter(pL, pW, c=labels_k2)\n",
        "plt.title(\"My Plot\")"
      ],
      "execution_count": null,
      "outputs": [
        {
          "output_type": "execute_result",
          "data": {
            "text/plain": [
              "Text(0.5,1,'My Plot')"
            ]
          },
          "metadata": {
            "tags": []
          },
          "execution_count": 12
        },
        {
          "output_type": "display_data",
          "data": {
            "image/png": "[encoded data removed]",
            "text/plain": [
              "<matplotlib.figure.Figure at 0x7f4b00646160>"
            ]
          },
          "metadata": {
            "tags": []
          }
        }
      ]
    },
    {
      "cell_type": "code",
      "metadata": {
        "id": "QKvMzpUHLFo1",
        "colab_type": "code",
        "colab": {},
        "outputId": "50202942-ca91-4f65-f816-0d6d357d0ddf"
      },
      "source": [
        "# COMPARAÇÃO CLUSTERS REAIS E CLUSTERS PREDITOS (K=3)\n",
        "\n",
        "data = df.collect()\n",
        "data_k3 = df_k3.collect()\n",
        "pL = [float(row['_c2']) for row in data]\n",
        "pW = [float(row['_c3']) for row in data]\n",
        "labels = [float(row['Nome']) for row in data]\n",
        "labels_k3 = [float(row['prediction']) for row in data_k3]\n",
        "\n",
        "plt.figure(figsize=(15,5))\n",
        "plt.subplot(1,3,1)\n",
        "plt.scatter(pL, pW)\n",
        "plt.subplot(1,3,2)\n",
        "plt.scatter(pL, pW, c=labels)\n",
        "plt.subplot(1,3,3)\n",
        "plt.scatter(pL, pW, c=labels_k3)\n",
        "plt.title(\"My Plot\")"
      ],
      "execution_count": null,
      "outputs": [
        {
          "output_type": "execute_result",
          "data": {
            "text/plain": [
              "Text(0.5,1,'My Plot')"
            ]
          },
          "metadata": {
            "tags": []
          },
          "execution_count": 23
        },
        {
          "output_type": "display_data",
          "data": {
            "image/png": "[encoded data removed]",
            "text/plain": [
              "<matplotlib.figure.Figure at 0x7f4aff049908>"
            ]
          },
          "metadata": {
            "tags": []
          }
        }
      ]
    },
    {
      "cell_type": "code",
      "metadata": {
        "id": "Rk1BfYd_LFo_",
        "colab_type": "code",
        "colab": {},
        "outputId": "a6c34985-e003-47f8-feee-da371c94662b"
      },
      "source": [
        "# COMPARAÇÃO CLUSTERS REAIS E CLUSTERS PREDITOS (K=4)\n",
        "\n",
        "data = df.collect()\n",
        "data_k4 = df_k4.collect()\n",
        "pL = [float(row['_c2']) for row in data]\n",
        "pW = [float(row['_c3']) for row in data]\n",
        "labels = [float(row['Nome']) for row in data]\n",
        "labels_k4 = [float(row['prediction']) for row in data_k4]\n",
        "\n",
        "plt.subplot(1,2,1)\n",
        "plt.scatter(pL, pW, c=labels)\n",
        "plt.subplot(1,2,2)\n",
        "plt.scatter(pL, pW, c=labels_k4)\n",
        "plt.title(\"My Plot\")"
      ],
      "execution_count": null,
      "outputs": [
        {
          "output_type": "execute_result",
          "data": {
            "text/plain": [
              "Text(0.5,1,'My Plot')"
            ]
          },
          "metadata": {
            "tags": []
          },
          "execution_count": 15
        },
        {
          "output_type": "display_data",
          "data": {
            "image/png": "[encoded data removed]",
            "text/plain": [
              "<matplotlib.figure.Figure at 0x7f4aff157c50>"
            ]
          },
          "metadata": {
            "tags": []
          }
        }
      ]
    },
    {
      "cell_type": "code",
      "metadata": {
        "id": "aZpErUBOLFpN",
        "colab_type": "code",
        "colab": {},
        "outputId": "ac15640c-4efb-4324-aa23-bf65ddfc6e5e"
      },
      "source": [
        "# FUNÇÃO CUSTO\n",
        "\n",
        "wssse2 = model_k2.computeCost(df_k2)\n",
        "wssse3 = model_k3.computeCost(df_k3)\n",
        "wssse4 = model_k4.computeCost(df_k4)\n",
        "print(\"Within Set Sum of Squared Errors for K2\" + ' = ' + str(wssse2))\n",
        "print(\"Within Set Sum of Squared Errors for K3\" + ' = ' + str(wssse3))\n",
        "print(\"Within Set Sum of Squared Errors for K4\" + ' = ' + str(wssse4))"
      ],
      "execution_count": null,
      "outputs": [
        {
          "output_type": "stream",
          "text": [
            "Within Set Sum of Squared Errors for K2 = 153.08017484976094\n",
            "Within Set Sum of Squared Errors for K3 = 85.16658299975859\n",
            "Within Set Sum of Squared Errors for K4 = 58.42026449321712\n"
          ],
          "name": "stdout"
        }
      ]
    },
    {
      "cell_type": "code",
      "metadata": {
        "id": "sb0I_vHaLFpa",
        "colab_type": "code",
        "colab": {}
      },
      "source": [
        ""
      ],
      "execution_count": null,
      "outputs": []
    }
  ]
}